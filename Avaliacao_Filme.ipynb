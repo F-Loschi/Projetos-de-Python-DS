{
  "nbformat": 4,
  "nbformat_minor": 0,
  "metadata": {
    "colab": {
      "provenance": [],
      "include_colab_link": true
    },
    "kernelspec": {
      "name": "python3",
      "display_name": "Python 3"
    },
    "language_info": {
      "name": "python"
    }
  },
  "cells": [
    {
      "cell_type": "markdown",
      "metadata": {
        "id": "view-in-github",
        "colab_type": "text"
      },
      "source": [
        "<a href=\"https://colab.research.google.com/github/F-Loschi/Projetos-de-Python-DS/blob/main/Avaliacao_Filme.ipynb\" target=\"_parent\"><img src=\"https://colab.research.google.com/assets/colab-badge.svg\" alt=\"Open In Colab\"/></a>"
      ]
    },
    {
      "cell_type": "markdown",
      "source": [
        "#Avaliação de Filmes\n",
        "Por: Felipe Silva Loschi"
      ],
      "metadata": {
        "id": "46rS6vYK-4RW"
      }
    },
    {
      "cell_type": "markdown",
      "source": [
        "Primeiro, vamos entrar os dados:"
      ],
      "metadata": {
        "id": "bj81lkrt_BiQ"
      }
    },
    {
      "cell_type": "code",
      "execution_count": 1,
      "metadata": {
        "id": "FkZbMdqGbEL5"
      },
      "outputs": [],
      "source": [
        "# Nomes dos clientes que avaliaram o filme\n",
        "nomes = [\n",
        "    'Ana', 'Bruno', 'Carlos', 'Diana', 'Eduardo',\n",
        "    'Fernanda', 'Gabriel', 'Helena', 'Igor', 'Julia',\n",
        "    'Karen', 'Leonardo', 'Marina', 'Nicolas', 'Olivia',\n",
        "    'Paulo', 'Rafaela', 'Sofia', 'Thiago', 'Vanessa'\n",
        "]"
      ]
    },
    {
      "cell_type": "code",
      "source": [
        "# Gêneros dos clientes\n",
        "generos = [\n",
        "    'F', 'M', 'M', 'F', 'M',\n",
        "    'F', 'M', 'F', 'M', 'F',\n",
        "    'F', 'M', 'F', 'M', 'F',\n",
        "    'M', 'F', 'F', 'M', 'F'\n",
        "]"
      ],
      "metadata": {
        "id": "tOSnXDFjbtk9"
      },
      "execution_count": 2,
      "outputs": []
    },
    {
      "cell_type": "code",
      "source": [
        "# Notas dadas pelos clientes para o filme\n",
        "notas = [\n",
        "    8.5, 7.0, 9.2, 6.8, 7.5,\n",
        "    8.0, 6.5, 9.0, 7.8, 8.2,\n",
        "    5.9, 7.3, 6.4, 8.7, 9.1,\n",
        "    7.6, 6.9, 8.8, 7.2, 8.4\n",
        "]"
      ],
      "metadata": {
        "id": "2_wPF_kkczcB"
      },
      "execution_count": 3,
      "outputs": []
    },
    {
      "cell_type": "markdown",
      "source": [
        "# Demanda 01 - Combinando as informações dos clientes em um dicionário"
      ],
      "metadata": {
        "id": "Y1AX9cjk91Ql"
      }
    },
    {
      "cell_type": "markdown",
      "source": [
        "Vamos criar o dicionário baseando a chave como o nome do cliente e o valor como uma lista que tem o gênero e a nota da pessoa"
      ],
      "metadata": {
        "id": "XO-ED-3m9_-u"
      }
    },
    {
      "cell_type": "markdown",
      "source": [
        "Aqui eu vou usar list comprehension, porque se usar só um for, ele vai calcular e substituir os valores a cada vez que ele calcular, a não ser que eu use um .append() pra criar uma lista de dicionários, mas não é isso que ele quer"
      ],
      "metadata": {
        "id": "uMKJp8AJ-CZn"
      }
    },
    {
      "cell_type": "markdown",
      "source": [],
      "metadata": {
        "id": "M7RtXy8G9-Fp"
      }
    },
    {
      "cell_type": "code",
      "source": [
        "clientes = {nomes[i]: [generos[i], notas[i]] for i in range(len(nomes))}"
      ],
      "metadata": {
        "id": "0VZYWMxAcnRz"
      },
      "execution_count": 4,
      "outputs": []
    },
    {
      "cell_type": "markdown",
      "source": [
        "E vamos, por fim, tentar pegar as informações de uma pessoa pela chave para ver se funcionou"
      ],
      "metadata": {
        "id": "c3C9wxOo-P7c"
      }
    },
    {
      "cell_type": "code",
      "source": [
        "try:\n",
        "    #Vamos primeiro tratar a entrada para ficar no formato em que os nomes estão\n",
        "    nome = input('Digite o nome do cliente: ').capitalize().strip()\n",
        "    info = clientes[nome]\n",
        "except TypeError as erro:\n",
        "    #Esperando que alguém digite o nome de uma pessoa errado ou algo estranho\n",
        "    print('Esse pessoa não está cadastrada')\n",
        "finally:\n",
        "    #Por fim, vamos mostrar as informações da pessoa se ela estiver cadastrada\n",
        "    print(f\"Cliente {nome} é {info[0]} e sua nota é {info[1]}\")"
      ],
      "metadata": {
        "colab": {
          "base_uri": "https://localhost:8080/"
        },
        "id": "MRTFctww-KLg",
        "outputId": "64e336a2-e560-4ea8-e06d-954737465890"
      },
      "execution_count": 5,
      "outputs": [
        {
          "output_type": "stream",
          "name": "stdout",
          "text": [
            "Digite o nome do cliente: Ana\n",
            "Cliente Ana é F e sua nota é 8.5\n"
          ]
        }
      ]
    },
    {
      "cell_type": "markdown",
      "source": [
        "# Demanda 02 - Descobrir qual público (masc. ou femi.) gostou mais do filme"
      ],
      "metadata": {
        "id": "ctDzdu6T-VKV"
      }
    },
    {
      "cell_type": "markdown",
      "source": [
        "Vamos primeiro definir uma função para calcular a média"
      ],
      "metadata": {
        "id": "nrGqH8dZ-bD7"
      }
    },
    {
      "cell_type": "code",
      "source": [
        "def media_por_genero(lista:list) -> float:\n",
        "    return round(sum(lista) / len(lista),2)\n"
      ],
      "metadata": {
        "id": "_KGjZuHndTJc"
      },
      "execution_count": 6,
      "outputs": []
    },
    {
      "cell_type": "markdown",
      "source": [
        "Perfeito, agora vamos criar duas listas diferentes para cada gênero, contendo as notas de cada um"
      ],
      "metadata": {
        "id": "HnHH24rB-gQj"
      }
    },
    {
      "cell_type": "code",
      "source": [
        "notaM = [info[1] for info in clientes.values() if info[0] == 'M']\n",
        "notaF = [info[1] for info in clientes.values() if info[0] == 'F']"
      ],
      "metadata": {
        "id": "2X7ywxgO-fJm"
      },
      "execution_count": 7,
      "outputs": []
    },
    {
      "cell_type": "markdown",
      "source": [
        "Perfeito, agora só passar para a função e verificar qual gostou mais"
      ],
      "metadata": {
        "id": "-mubzZXY-tKu"
      }
    },
    {
      "cell_type": "code",
      "source": [
        "notafF = media_por_genero(notaF)\n",
        "notafM = media_por_genero(notaM)\n",
        "if notafF>notafM:\n",
        "    print(f\"A nota final das mulheres foi maior, com uma média de: {notafF}\")\n",
        "elif notafM>notafF:\n",
        "    print(f\"A nota final dos homens foi maior, com uma média de: {notafM}\")\n",
        "else:\n",
        "    print(f\"A nota final de ambos foi a mesma, com uma média de: {notafM}\")"
      ],
      "metadata": {
        "colab": {
          "base_uri": "https://localhost:8080/"
        },
        "id": "-w0GddO7-xbz",
        "outputId": "8b708777-24a0-4b04-bbdb-a4b1ebcf0b8a"
      },
      "execution_count": 8,
      "outputs": [
        {
          "output_type": "stream",
          "name": "stdout",
          "text": [
            "A nota final das mulheres foi maior, com uma média de: 7.82\n"
          ]
        }
      ]
    }
  ]
}